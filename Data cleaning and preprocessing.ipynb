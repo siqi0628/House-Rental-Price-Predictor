{
 "cells": [
  {
   "cell_type": "markdown",
   "id": "5f6e1d34-3cd6-4132-9ac2-3a6969a342e9",
   "metadata": {},
   "source": [
    "## Handling Missing Values"
   ]
  },
  {
   "cell_type": "code",
   "execution_count": 90,
   "id": "cd3fcfa4-ca76-40b5-ad65-5eb898b003cf",
   "metadata": {
    "tags": []
   },
   "outputs": [],
   "source": [
    "import pandas as pd\n",
    "from sklearn.impute import SimpleImputer\n",
    "from sklearn.linear_model import LinearRegression\n",
    "from sklearn.preprocessing import LabelEncoder\n",
    "import matplotlib.pyplot as plt\n",
    "import seaborn as sns\n",
    "from mpl_toolkits.mplot3d import Axes3D\n",
    "import warnings\n",
    "warnings.filterwarnings(\"ignore\", category=UserWarning)"
   ]
  },
  {
   "cell_type": "code",
   "execution_count": 13,
   "id": "f597e481-5c95-4af6-8fbc-8545f67b0744",
   "metadata": {
    "tags": []
   },
   "outputs": [],
   "source": [
    "df = pd.read_excel('./all_data3.xlsx')\n",
    "df = df.drop(['link.1', 'people_stats_link'], axis=1)"
   ]
  },
  {
   "cell_type": "code",
   "execution_count": 57,
   "id": "c91962ea-e668-41db-bb6e-0c19bd53a35e",
   "metadata": {
    "tags": []
   },
   "outputs": [
    {
     "data": {
      "text/html": [
       "<div>\n",
       "<style scoped>\n",
       "    .dataframe tbody tr th:only-of-type {\n",
       "        vertical-align: middle;\n",
       "    }\n",
       "\n",
       "    .dataframe tbody tr th {\n",
       "        vertical-align: top;\n",
       "    }\n",
       "\n",
       "    .dataframe thead th {\n",
       "        text-align: right;\n",
       "    }\n",
       "</style>\n",
       "<table border=\"1\" class=\"dataframe\">\n",
       "  <thead>\n",
       "    <tr style=\"text-align: right;\">\n",
       "      <th></th>\n",
       "      <th>zpid</th>\n",
       "      <th>city</th>\n",
       "      <th>state</th>\n",
       "      <th>zipcode</th>\n",
       "      <th>bedrooms</th>\n",
       "      <th>bathrooms</th>\n",
       "      <th>sqft</th>\n",
       "      <th>vacant for rent</th>\n",
       "      <th>median age</th>\n",
       "      <th>currently married</th>\n",
       "      <th>crime rate</th>\n",
       "      <th>pop dens zipcode</th>\n",
       "      <th>income household median</th>\n",
       "      <th>cost of living score</th>\n",
       "      <th>price</th>\n",
       "    </tr>\n",
       "  </thead>\n",
       "  <tbody>\n",
       "    <tr>\n",
       "      <th>0</th>\n",
       "      <td>3.605544e+08</td>\n",
       "      <td>Bronx</td>\n",
       "      <td>NY</td>\n",
       "      <td>10460.0</td>\n",
       "      <td>0.0</td>\n",
       "      <td>1.0</td>\n",
       "      <td>502.0</td>\n",
       "      <td>0.016</td>\n",
       "      <td>33.2</td>\n",
       "      <td>0.269</td>\n",
       "      <td>24.9</td>\n",
       "      <td>44604.3</td>\n",
       "      <td>31504.0</td>\n",
       "      <td>141.0</td>\n",
       "      <td>1790.0</td>\n",
       "    </tr>\n",
       "    <tr>\n",
       "      <th>1</th>\n",
       "      <td>2.115158e+09</td>\n",
       "      <td>Bronx</td>\n",
       "      <td>NY</td>\n",
       "      <td>10468.0</td>\n",
       "      <td>1.0</td>\n",
       "      <td>1.0</td>\n",
       "      <td>NaN</td>\n",
       "      <td>0.013</td>\n",
       "      <td>34.4</td>\n",
       "      <td>0.331</td>\n",
       "      <td>63.7</td>\n",
       "      <td>66519.9</td>\n",
       "      <td>40138.0</td>\n",
       "      <td>141.0</td>\n",
       "      <td>1750.0</td>\n",
       "    </tr>\n",
       "    <tr>\n",
       "      <th>2</th>\n",
       "      <td>3.596626e+08</td>\n",
       "      <td>Bronx</td>\n",
       "      <td>NY</td>\n",
       "      <td>10461.0</td>\n",
       "      <td>1.0</td>\n",
       "      <td>1.0</td>\n",
       "      <td>NaN</td>\n",
       "      <td>0.023</td>\n",
       "      <td>33.9</td>\n",
       "      <td>0.432</td>\n",
       "      <td>13.9</td>\n",
       "      <td>21850.8</td>\n",
       "      <td>61087.0</td>\n",
       "      <td>141.0</td>\n",
       "      <td>2584.0</td>\n",
       "    </tr>\n",
       "  </tbody>\n",
       "</table>\n",
       "</div>"
      ],
      "text/plain": [
       "           zpid   city state  zipcode  bedrooms  bathrooms   sqft  \\\n",
       "0  3.605544e+08  Bronx    NY  10460.0       0.0        1.0  502.0   \n",
       "1  2.115158e+09  Bronx    NY  10468.0       1.0        1.0    NaN   \n",
       "2  3.596626e+08  Bronx    NY  10461.0       1.0        1.0    NaN   \n",
       "\n",
       "   vacant for rent  median age  currently married  crime rate  \\\n",
       "0            0.016        33.2              0.269        24.9   \n",
       "1            0.013        34.4              0.331        63.7   \n",
       "2            0.023        33.9              0.432        13.9   \n",
       "\n",
       "   pop dens zipcode  income household median  cost of living score    price  \n",
       "0           44604.3                  31504.0                  141.0  1790.0  \n",
       "1           66519.9                  40138.0                  141.0  1750.0  \n",
       "2           21850.8                  61087.0                  141.0  2584.0  "
      ]
     },
     "execution_count": 57,
     "metadata": {},
     "output_type": "execute_result"
    }
   ],
   "source": [
    "df.head(3)"
   ]
  },
  {
   "cell_type": "code",
   "execution_count": 20,
   "id": "a12240fb-3f86-4091-93f1-a6ff35bc4b51",
   "metadata": {
    "tags": []
   },
   "outputs": [
    {
     "data": {
      "text/plain": [
       "zpid                        0.000000\n",
       "city                        0.000000\n",
       "state                       0.000000\n",
       "zipcode                     0.000000\n",
       "bedrooms                    0.047081\n",
       "bathrooms                   0.000000\n",
       "sqft                       64.959981\n",
       "vacant for rent             0.894539\n",
       "median age                  0.659134\n",
       "currently married           0.000000\n",
       "crime rate                  0.659134\n",
       "pop dens zipcode            0.623823\n",
       "income household median     0.635593\n",
       "cost of living score        0.659134\n",
       "price                       0.000000\n",
       "dtype: float64"
      ]
     },
     "execution_count": 20,
     "metadata": {},
     "output_type": "execute_result"
    }
   ],
   "source": [
    "# percentage of missing values\n",
    "missing_percentages = df.isnull().mean() * 100\n",
    "missing_percentages"
   ]
  },
  {
   "cell_type": "code",
   "execution_count": 26,
   "id": "cfdfcc38-c8da-43cb-9d11-70516aa1c7f9",
   "metadata": {
    "tags": []
   },
   "outputs": [],
   "source": [
    "# Simple imputation for low missing values\n",
    "low_missing_cols = missing_percentages[missing_percentages < 5].index\n",
    "\n",
    "for col in low_missing_cols:\n",
    "    if df[col].dtype == 'object':\n",
    "        imputer = SimpleImputer(strategy='most_frequent')\n",
    "    else:\n",
    "        imputer = SimpleImputer(strategy='median')\n",
    "    \n",
    "    df[col] = imputer.fit_transform(df[[col]]).ravel()"
   ]
  },
  {
   "cell_type": "markdown",
   "id": "b0f3d333-5e67-4496-b0b6-af1031889f11",
   "metadata": {},
   "source": [
    "#### Studio (0 bedroom)"
   ]
  },
  {
   "cell_type": "code",
   "execution_count": 43,
   "id": "2c142173-b66f-480f-b5da-d65a1c25d735",
   "metadata": {
    "tags": []
   },
   "outputs": [
    {
     "data": {
      "text/plain": [
       "count     232.000000\n",
       "mean      618.508621\n",
       "std       380.700505\n",
       "min       150.000000\n",
       "25%       449.000000\n",
       "50%       502.000000\n",
       "75%       650.000000\n",
       "max      2704.000000\n",
       "Name: sqft, dtype: float64"
      ]
     },
     "execution_count": 43,
     "metadata": {},
     "output_type": "execute_result"
    }
   ],
   "source": [
    "# Filter to obtain only studios (studios are indicated by '0' bedrooms)\n",
    "studio_df = df[df['bedrooms'] == 0]\n",
    "studio_df_filtered = studio_df[studio_df['sqft'] < 10500]\n",
    "studio_stats = studio_df_filtered['sqft'].describe()\n",
    "studio_stats"
   ]
  },
  {
   "cell_type": "code",
   "execution_count": 40,
   "id": "94a26953-90b7-4654-95ed-c5ba5dffcbc0",
   "metadata": {
    "tags": []
   },
   "outputs": [
    {
     "data": {
      "text/html": [
       "<div>\n",
       "<style scoped>\n",
       "    .dataframe tbody tr th:only-of-type {\n",
       "        vertical-align: middle;\n",
       "    }\n",
       "\n",
       "    .dataframe tbody tr th {\n",
       "        vertical-align: top;\n",
       "    }\n",
       "\n",
       "    .dataframe thead th {\n",
       "        text-align: right;\n",
       "    }\n",
       "</style>\n",
       "<table border=\"1\" class=\"dataframe\">\n",
       "  <thead>\n",
       "    <tr style=\"text-align: right;\">\n",
       "      <th></th>\n",
       "      <th>zpid</th>\n",
       "      <th>city</th>\n",
       "      <th>state</th>\n",
       "      <th>zipcode</th>\n",
       "      <th>bedrooms</th>\n",
       "      <th>bathrooms</th>\n",
       "      <th>sqft</th>\n",
       "      <th>vacant for rent</th>\n",
       "      <th>median age</th>\n",
       "      <th>currently married</th>\n",
       "      <th>crime rate</th>\n",
       "      <th>pop dens zipcode</th>\n",
       "      <th>income household median</th>\n",
       "      <th>cost of living score</th>\n",
       "      <th>price</th>\n",
       "    </tr>\n",
       "  </thead>\n",
       "  <tbody>\n",
       "    <tr>\n",
       "      <th>8462</th>\n",
       "      <td>143753953.0</td>\n",
       "      <td>Staten Island</td>\n",
       "      <td>NY</td>\n",
       "      <td>10306.0</td>\n",
       "      <td>0.0</td>\n",
       "      <td>1.0</td>\n",
       "      <td>10500.0</td>\n",
       "      <td>0.011</td>\n",
       "      <td>41.1</td>\n",
       "      <td>0.502</td>\n",
       "      <td>24.9</td>\n",
       "      <td>7287.3</td>\n",
       "      <td>88687.0</td>\n",
       "      <td>158.4</td>\n",
       "      <td>8500.0</td>\n",
       "    </tr>\n",
       "  </tbody>\n",
       "</table>\n",
       "</div>"
      ],
      "text/plain": [
       "             zpid           city state  zipcode  bedrooms  bathrooms     sqft  \\\n",
       "8462  143753953.0  Staten Island    NY  10306.0       0.0        1.0  10500.0   \n",
       "\n",
       "      vacant for rent  median age  currently married  crime rate  \\\n",
       "8462            0.011        41.1              0.502        24.9   \n",
       "\n",
       "      pop dens zipcode  income household median  cost of living score    price  \n",
       "8462            7287.3                  88687.0                  158.4  8500.0  "
      ]
     },
     "execution_count": 40,
     "metadata": {},
     "output_type": "execute_result"
    }
   ],
   "source": [
    "# outlier = df[df['sqft'] == 10500]\n",
    "# outlier"
   ]
  },
  {
   "cell_type": "code",
   "execution_count": 44,
   "id": "fef30f02-e98c-408c-9db3-dd95eb63419a",
   "metadata": {
    "tags": []
   },
   "outputs": [],
   "source": [
    "# Impute missing 'sqft' values for studios with 502 (median)\n",
    "df.loc[(df['bedrooms'] == 0) & (df['sqft'].isnull()), 'sqft'] = 502"
   ]
  },
  {
   "cell_type": "markdown",
   "id": "77911d00-501b-46ab-a78a-0e8539e669cc",
   "metadata": {},
   "source": [
    "#### Other apartment (>0 bedroom)"
   ]
  },
  {
   "cell_type": "code",
   "execution_count": 46,
   "id": "dd221f18-c3b1-45c9-b4f2-d803715f428d",
   "metadata": {
    "collapsed": true,
    "jupyter": {
     "outputs_hidden": true
    },
    "tags": []
   },
   "outputs": [
    {
     "data": {
      "text/plain": [
       "bedrooms\n",
       "0.0      846\n",
       "1.0     2460\n",
       "2.0     2631\n",
       "3.0     1984\n",
       "4.0      476\n",
       "5.0       79\n",
       "6.0       10\n",
       "7.0        6\n",
       "8.0        2\n",
       "11.0       2\n",
       "Name: count, dtype: int64"
      ]
     },
     "execution_count": 46,
     "metadata": {},
     "output_type": "execute_result"
    }
   ],
   "source": [
    "bedroom_distribution = df['bedrooms'].value_counts().sort_index()\n",
    "bedroom_distribution"
   ]
  },
  {
   "cell_type": "code",
   "execution_count": 47,
   "id": "58ca4d32-aab2-4163-8e61-4cbf976d7731",
   "metadata": {
    "collapsed": true,
    "jupyter": {
     "outputs_hidden": true
    },
    "tags": []
   },
   "outputs": [
    {
     "data": {
      "text/plain": [
       "bathrooms\n",
       "0.0      15\n",
       "0.5       2\n",
       "1.0    6221\n",
       "1.5     365\n",
       "2.0    1417\n",
       "2.5     160\n",
       "3.0     182\n",
       "3.5      69\n",
       "4.0      23\n",
       "4.5      17\n",
       "5.0       8\n",
       "5.5       4\n",
       "6.0       6\n",
       "6.5       2\n",
       "7.0       2\n",
       "7.5       2\n",
       "9.0       1\n",
       "Name: count, dtype: int64"
      ]
     },
     "execution_count": 47,
     "metadata": {},
     "output_type": "execute_result"
    }
   ],
   "source": [
    "bathroom_distribution = df['bathrooms'].value_counts().sort_index()\n",
    "bathroom_distribution"
   ]
  },
  {
   "cell_type": "code",
   "execution_count": 58,
   "id": "1a24328f-4ab2-480d-8825-a96c0f772050",
   "metadata": {
    "tags": []
   },
   "outputs": [],
   "source": [
    "# use the median for different size for imputation\n",
    "# Dictionary mapping the bedroom-bathroom combination to square footage\n",
    "size_map = {\n",
    "    (1, 1.0): 750,\n",
    "    (1, 1.5): 920,\n",
    "    (1, 2.0): 1050,\n",
    "    (2, 1.0): 900,\n",
    "    (2, 1.5): 1065,\n",
    "    (2, 2.0): 1100,\n",
    "    (3, 1.0): 1000,\n",
    "    (3, 1.5): 1150,\n",
    "    (3, 2.0): 1200\n",
    "}\n",
    "\n",
    "# Function to apply to each row\n",
    "def impute_sqft(row):\n",
    "    if pd.isnull(row['sqft']):\n",
    "        return size_map.get((row['bedrooms'], row['bathrooms']))\n",
    "    else:\n",
    "        return row['sqft']\n",
    "    \n",
    "# Apply the function\n",
    "df['sqft'] = df.apply(impute_sqft, axis=1)"
   ]
  },
  {
   "cell_type": "code",
   "execution_count": 62,
   "id": "39a16a7b-5b81-4deb-adce-f0b2b6305b23",
   "metadata": {
    "tags": []
   },
   "outputs": [
    {
     "data": {
      "text/plain": [
       "8496"
      ]
     },
     "execution_count": 62,
     "metadata": {},
     "output_type": "execute_result"
    }
   ],
   "source": [
    "len(df)"
   ]
  },
  {
   "cell_type": "code",
   "execution_count": 67,
   "id": "03e62d14-bef2-4911-a3e5-716ba4948ded",
   "metadata": {
    "tags": []
   },
   "outputs": [],
   "source": [
    "df = df.dropna(subset=['sqft'])"
   ]
  },
  {
   "cell_type": "code",
   "execution_count": 68,
   "id": "3bca73cc-610e-4ab1-91d6-085eee683eb6",
   "metadata": {
    "tags": []
   },
   "outputs": [
    {
     "data": {
      "text/plain": [
       "8043"
      ]
     },
     "execution_count": 68,
     "metadata": {},
     "output_type": "execute_result"
    }
   ],
   "source": [
    "len(df)"
   ]
  },
  {
   "cell_type": "markdown",
   "id": "b106e918-8ed9-4858-9ff1-995cca959561",
   "metadata": {},
   "source": [
    "#### Removing duplicates"
   ]
  },
  {
   "cell_type": "code",
   "execution_count": 69,
   "id": "1598f427-d138-4b10-999b-7171492a8e2d",
   "metadata": {
    "tags": []
   },
   "outputs": [],
   "source": [
    "df = df.drop_duplicates()"
   ]
  },
  {
   "cell_type": "code",
   "execution_count": 70,
   "id": "9e919d5a-9141-4c01-a78f-b789b108eac9",
   "metadata": {
    "tags": []
   },
   "outputs": [
    {
     "data": {
      "text/plain": [
       "7746"
      ]
     },
     "execution_count": 70,
     "metadata": {},
     "output_type": "execute_result"
    }
   ],
   "source": [
    "len(df)"
   ]
  },
  {
   "cell_type": "code",
   "execution_count": 77,
   "id": "00ec608c-e521-4c25-b9d5-18502a500f7a",
   "metadata": {
    "tags": []
   },
   "outputs": [
    {
     "name": "stdout",
     "output_type": "stream",
     "text": [
      "Index(['zpid', 'city', 'state', 'zipcode', 'bedrooms', 'bathrooms', 'sqft',\n",
      "       'vacant for rent', 'median age', 'currently married', 'crime rate',\n",
      "       'pop dens zipcode', 'income household median', 'cost of living score ',\n",
      "       'price'],\n",
      "      dtype='object')\n"
     ]
    }
   ],
   "source": [
    "print(df.columns)"
   ]
  },
  {
   "cell_type": "markdown",
   "id": "2769be98-8efa-46fd-91cd-7ba295e48ce7",
   "metadata": {},
   "source": [
    "## Handling Outliers"
   ]
  },
  {
   "cell_type": "code",
   "execution_count": 79,
   "id": "d75ce598-20a7-4fb4-b443-a99ec0c16e6f",
   "metadata": {
    "tags": []
   },
   "outputs": [],
   "source": [
    "# List of tuples for allowed configurations\n",
    "allowed_configs = [\n",
    "    (0, 1.0), (0, 1.5), (0, 2.0), # Adjusted to include 0 bedroom scenarios\n",
    "    (1, 1.0), (1, 1.5), (1, 2.0),\n",
    "    (2, 1.0), (2, 1.5), (2, 2.0),\n",
    "    (3, 1.0), (3, 1.5), (3, 2.0)\n",
    "]\n",
    "\n",
    "# Filter the DataFrame\n",
    "df_filtered = df[df.apply(lambda row: (row['bedrooms'], row['bathrooms']) in allowed_configs, axis=1)]"
   ]
  },
  {
   "cell_type": "code",
   "execution_count": 81,
   "id": "a50e3a19-3c32-46cf-b56a-af0c3b6963ff",
   "metadata": {
    "tags": []
   },
   "outputs": [
    {
     "data": {
      "image/png": "[encoded data removed]",
      "text/plain": [
       "<Figure size 2000x1000 with 11 Axes>"
      ]
     },
     "metadata": {},
     "output_type": "display_data"
    }
   ],
   "source": [
    "plt.figure(figsize=(20, 10))\n",
    "\n",
    "# List of columns to plot\n",
    "columns_to_plot = ['bedrooms', 'bathrooms', 'sqft', 'vacant for rent', 'median age', 'currently married', 'crime rate', 'pop dens zipcode', 'income household median', 'cost of living score ', 'price']\n",
    "\n",
    "# Generate a boxplot for each specified column\n",
    "for i, column in enumerate(columns_to_plot, 1):\n",
    "    plt.subplot(3, 4, i)  # Adjust grid dimensions as necessary\n",
    "    sns.boxplot(y=df_filtered[column])\n",
    "    plt.title(column)\n",
    "\n",
    "plt.tight_layout()\n",
    "plt.show()"
   ]
  },
  {
   "cell_type": "code",
   "execution_count": 88,
   "id": "b52dfcd5-4899-40fb-b134-f5ab00eeb388",
   "metadata": {
    "tags": []
   },
   "outputs": [
    {
     "data": {
      "text/html": [
       "<div>\n",
       "<style scoped>\n",
       "    .dataframe tbody tr th:only-of-type {\n",
       "        vertical-align: middle;\n",
       "    }\n",
       "\n",
       "    .dataframe tbody tr th {\n",
       "        vertical-align: top;\n",
       "    }\n",
       "\n",
       "    .dataframe thead th {\n",
       "        text-align: right;\n",
       "    }\n",
       "</style>\n",
       "<table border=\"1\" class=\"dataframe\">\n",
       "  <thead>\n",
       "    <tr style=\"text-align: right;\">\n",
       "      <th></th>\n",
       "      <th>zpid</th>\n",
       "      <th>zipcode</th>\n",
       "      <th>bedrooms</th>\n",
       "      <th>bathrooms</th>\n",
       "      <th>sqft</th>\n",
       "      <th>vacant for rent</th>\n",
       "      <th>median age</th>\n",
       "      <th>currently married</th>\n",
       "      <th>crime rate</th>\n",
       "      <th>pop dens zipcode</th>\n",
       "      <th>income household median</th>\n",
       "      <th>cost of living score</th>\n",
       "      <th>price</th>\n",
       "    </tr>\n",
       "  </thead>\n",
       "  <tbody>\n",
       "    <tr>\n",
       "      <th>count</th>\n",
       "      <td>7.314000e+03</td>\n",
       "      <td>7314.000000</td>\n",
       "      <td>7314.000000</td>\n",
       "      <td>7314.000000</td>\n",
       "      <td>7314.000000</td>\n",
       "      <td>7314.000000</td>\n",
       "      <td>7314.000000</td>\n",
       "      <td>7314.000000</td>\n",
       "      <td>7314.000000</td>\n",
       "      <td>7314.000000</td>\n",
       "      <td>7314.000000</td>\n",
       "      <td>7314.000000</td>\n",
       "      <td>7314.000000</td>\n",
       "    </tr>\n",
       "    <tr>\n",
       "      <th>mean</th>\n",
       "      <td>1.323094e+09</td>\n",
       "      <td>10698.116489</td>\n",
       "      <td>1.686355</td>\n",
       "      <td>1.178357</td>\n",
       "      <td>907.890347</td>\n",
       "      <td>0.026567</td>\n",
       "      <td>38.471411</td>\n",
       "      <td>0.377768</td>\n",
       "      <td>42.574528</td>\n",
       "      <td>57670.531105</td>\n",
       "      <td>86453.471014</td>\n",
       "      <td>176.605031</td>\n",
       "      <td>3565.558791</td>\n",
       "    </tr>\n",
       "    <tr>\n",
       "      <th>std</th>\n",
       "      <td>8.970547e+08</td>\n",
       "      <td>580.396766</td>\n",
       "      <td>0.948453</td>\n",
       "      <td>0.368877</td>\n",
       "      <td>440.928789</td>\n",
       "      <td>0.014160</td>\n",
       "      <td>6.191669</td>\n",
       "      <td>0.099476</td>\n",
       "      <td>16.669612</td>\n",
       "      <td>33716.492368</td>\n",
       "      <td>36271.111875</td>\n",
       "      <td>22.403999</td>\n",
       "      <td>1925.412508</td>\n",
       "    </tr>\n",
       "    <tr>\n",
       "      <th>min</th>\n",
       "      <td>2.977812e+07</td>\n",
       "      <td>10001.000000</td>\n",
       "      <td>0.000000</td>\n",
       "      <td>1.000000</td>\n",
       "      <td>10.000000</td>\n",
       "      <td>0.000000</td>\n",
       "      <td>26.200000</td>\n",
       "      <td>0.000000</td>\n",
       "      <td>13.600000</td>\n",
       "      <td>1261.200000</td>\n",
       "      <td>21846.000000</td>\n",
       "      <td>141.000000</td>\n",
       "      <td>1000.000000</td>\n",
       "    </tr>\n",
       "    <tr>\n",
       "      <th>25%</th>\n",
       "      <td>3.523039e+08</td>\n",
       "      <td>10028.000000</td>\n",
       "      <td>1.000000</td>\n",
       "      <td>1.000000</td>\n",
       "      <td>750.000000</td>\n",
       "      <td>0.015000</td>\n",
       "      <td>35.000000</td>\n",
       "      <td>0.297000</td>\n",
       "      <td>30.400000</td>\n",
       "      <td>31902.900000</td>\n",
       "      <td>58850.000000</td>\n",
       "      <td>157.900000</td>\n",
       "      <td>2550.000000</td>\n",
       "    </tr>\n",
       "    <tr>\n",
       "      <th>50%</th>\n",
       "      <td>2.060692e+09</td>\n",
       "      <td>10472.000000</td>\n",
       "      <td>2.000000</td>\n",
       "      <td>1.000000</td>\n",
       "      <td>900.000000</td>\n",
       "      <td>0.026000</td>\n",
       "      <td>37.700000</td>\n",
       "      <td>0.365000</td>\n",
       "      <td>42.500000</td>\n",
       "      <td>53801.600000</td>\n",
       "      <td>77551.000000</td>\n",
       "      <td>172.500000</td>\n",
       "      <td>3150.000000</td>\n",
       "    </tr>\n",
       "    <tr>\n",
       "      <th>75%</th>\n",
       "      <td>2.095869e+09</td>\n",
       "      <td>11225.000000</td>\n",
       "      <td>2.000000</td>\n",
       "      <td>1.000000</td>\n",
       "      <td>1000.000000</td>\n",
       "      <td>0.035000</td>\n",
       "      <td>40.700000</td>\n",
       "      <td>0.461000</td>\n",
       "      <td>60.400000</td>\n",
       "      <td>76855.100000</td>\n",
       "      <td>114427.000000</td>\n",
       "      <td>204.100000</td>\n",
       "      <td>3994.500000</td>\n",
       "    </tr>\n",
       "    <tr>\n",
       "      <th>max</th>\n",
       "      <td>2.146837e+09</td>\n",
       "      <td>11697.000000</td>\n",
       "      <td>3.000000</td>\n",
       "      <td>2.000000</td>\n",
       "      <td>20000.000000</td>\n",
       "      <td>0.078000</td>\n",
       "      <td>86.000000</td>\n",
       "      <td>0.655000</td>\n",
       "      <td>68.400000</td>\n",
       "      <td>146955.300000</td>\n",
       "      <td>250001.000000</td>\n",
       "      <td>204.100000</td>\n",
       "      <td>44000.000000</td>\n",
       "    </tr>\n",
       "  </tbody>\n",
       "</table>\n",
       "</div>"
      ],
      "text/plain": [
       "               zpid       zipcode     bedrooms    bathrooms          sqft  \\\n",
       "count  7.314000e+03   7314.000000  7314.000000  7314.000000   7314.000000   \n",
       "mean   1.323094e+09  10698.116489     1.686355     1.178357    907.890347   \n",
       "std    8.970547e+08    580.396766     0.948453     0.368877    440.928789   \n",
       "min    2.977812e+07  10001.000000     0.000000     1.000000     10.000000   \n",
       "25%    3.523039e+08  10028.000000     1.000000     1.000000    750.000000   \n",
       "50%    2.060692e+09  10472.000000     2.000000     1.000000    900.000000   \n",
       "75%    2.095869e+09  11225.000000     2.000000     1.000000   1000.000000   \n",
       "max    2.146837e+09  11697.000000     3.000000     2.000000  20000.000000   \n",
       "\n",
       "       vacant for rent   median age  currently married   crime rate  \\\n",
       "count      7314.000000  7314.000000        7314.000000  7314.000000   \n",
       "mean          0.026567    38.471411           0.377768    42.574528   \n",
       "std           0.014160     6.191669           0.099476    16.669612   \n",
       "min           0.000000    26.200000           0.000000    13.600000   \n",
       "25%           0.015000    35.000000           0.297000    30.400000   \n",
       "50%           0.026000    37.700000           0.365000    42.500000   \n",
       "75%           0.035000    40.700000           0.461000    60.400000   \n",
       "max           0.078000    86.000000           0.655000    68.400000   \n",
       "\n",
       "       pop dens zipcode  income household median  cost of living score   \\\n",
       "count       7314.000000              7314.000000            7314.000000   \n",
       "mean       57670.531105             86453.471014             176.605031   \n",
       "std        33716.492368             36271.111875              22.403999   \n",
       "min         1261.200000             21846.000000             141.000000   \n",
       "25%        31902.900000             58850.000000             157.900000   \n",
       "50%        53801.600000             77551.000000             172.500000   \n",
       "75%        76855.100000            114427.000000             204.100000   \n",
       "max       146955.300000            250001.000000             204.100000   \n",
       "\n",
       "              price  \n",
       "count   7314.000000  \n",
       "mean    3565.558791  \n",
       "std     1925.412508  \n",
       "min     1000.000000  \n",
       "25%     2550.000000  \n",
       "50%     3150.000000  \n",
       "75%     3994.500000  \n",
       "max    44000.000000  "
      ]
     },
     "execution_count": 88,
     "metadata": {},
     "output_type": "execute_result"
    }
   ],
   "source": [
    "df_filtered.describe()"
   ]
  },
  {
   "cell_type": "code",
   "execution_count": 89,
   "id": "3a6150d7-3dfc-4a66-b15c-e73040fe7bb2",
   "metadata": {
    "tags": []
   },
   "outputs": [
    {
     "name": "stderr",
     "output_type": "stream",
     "text": [
      "C:\\Users\\Siqi Lai\\AppData\\Local\\Temp\\ipykernel_2432\\2500300037.py:8: SettingWithCopyWarning: \n",
      "A value is trying to be set on a copy of a slice from a DataFrame.\n",
      "Try using .loc[row_indexer,col_indexer] = value instead\n",
      "\n",
      "See the caveats in the documentation: https://pandas.pydata.org/pandas-docs/stable/user_guide/indexing.html#returning-a-view-versus-a-copy\n",
      "  df_filtered['sqft'] = df_filtered['sqft'].clip(lower=sqft_lower_bound, upper=sqft_upper_bound)\n",
      "C:\\Users\\Siqi Lai\\AppData\\Local\\Temp\\ipykernel_2432\\2500300037.py:9: SettingWithCopyWarning: \n",
      "A value is trying to be set on a copy of a slice from a DataFrame.\n",
      "Try using .loc[row_indexer,col_indexer] = value instead\n",
      "\n",
      "See the caveats in the documentation: https://pandas.pydata.org/pandas-docs/stable/user_guide/indexing.html#returning-a-view-versus-a-copy\n",
      "  df_filtered['price'] = df_filtered['price'].clip(lower=price_lower_bound, upper=price_upper_bound)\n"
     ]
    },
    {
     "data": {
      "text/html": [
       "<div>\n",
       "<style scoped>\n",
       "    .dataframe tbody tr th:only-of-type {\n",
       "        vertical-align: middle;\n",
       "    }\n",
       "\n",
       "    .dataframe tbody tr th {\n",
       "        vertical-align: top;\n",
       "    }\n",
       "\n",
       "    .dataframe thead th {\n",
       "        text-align: right;\n",
       "    }\n",
       "</style>\n",
       "<table border=\"1\" class=\"dataframe\">\n",
       "  <thead>\n",
       "    <tr style=\"text-align: right;\">\n",
       "      <th></th>\n",
       "      <th>zpid</th>\n",
       "      <th>zipcode</th>\n",
       "      <th>bedrooms</th>\n",
       "      <th>bathrooms</th>\n",
       "      <th>sqft</th>\n",
       "      <th>vacant for rent</th>\n",
       "      <th>median age</th>\n",
       "      <th>currently married</th>\n",
       "      <th>crime rate</th>\n",
       "      <th>pop dens zipcode</th>\n",
       "      <th>income household median</th>\n",
       "      <th>cost of living score</th>\n",
       "      <th>price</th>\n",
       "    </tr>\n",
       "  </thead>\n",
       "  <tbody>\n",
       "    <tr>\n",
       "      <th>count</th>\n",
       "      <td>7.314000e+03</td>\n",
       "      <td>7314.000000</td>\n",
       "      <td>7314.000000</td>\n",
       "      <td>7314.000000</td>\n",
       "      <td>7314.000000</td>\n",
       "      <td>7314.000000</td>\n",
       "      <td>7314.000000</td>\n",
       "      <td>7314.000000</td>\n",
       "      <td>7314.000000</td>\n",
       "      <td>7314.000000</td>\n",
       "      <td>7314.000000</td>\n",
       "      <td>7314.000000</td>\n",
       "      <td>7314.000000</td>\n",
       "    </tr>\n",
       "    <tr>\n",
       "      <th>mean</th>\n",
       "      <td>1.323094e+09</td>\n",
       "      <td>10698.116489</td>\n",
       "      <td>1.686355</td>\n",
       "      <td>1.178357</td>\n",
       "      <td>871.991797</td>\n",
       "      <td>0.026567</td>\n",
       "      <td>38.471411</td>\n",
       "      <td>0.377768</td>\n",
       "      <td>42.574528</td>\n",
       "      <td>57670.531105</td>\n",
       "      <td>86453.471014</td>\n",
       "      <td>176.605031</td>\n",
       "      <td>3225.354936</td>\n",
       "    </tr>\n",
       "    <tr>\n",
       "      <th>std</th>\n",
       "      <td>8.970547e+08</td>\n",
       "      <td>580.396766</td>\n",
       "      <td>0.948453</td>\n",
       "      <td>0.368877</td>\n",
       "      <td>109.275300</td>\n",
       "      <td>0.014160</td>\n",
       "      <td>6.191669</td>\n",
       "      <td>0.099476</td>\n",
       "      <td>16.669612</td>\n",
       "      <td>33716.492368</td>\n",
       "      <td>36271.111875</td>\n",
       "      <td>22.403999</td>\n",
       "      <td>580.993558</td>\n",
       "    </tr>\n",
       "    <tr>\n",
       "      <th>min</th>\n",
       "      <td>2.977812e+07</td>\n",
       "      <td>10001.000000</td>\n",
       "      <td>0.000000</td>\n",
       "      <td>1.000000</td>\n",
       "      <td>750.000000</td>\n",
       "      <td>0.000000</td>\n",
       "      <td>26.200000</td>\n",
       "      <td>0.000000</td>\n",
       "      <td>13.600000</td>\n",
       "      <td>1261.200000</td>\n",
       "      <td>21846.000000</td>\n",
       "      <td>141.000000</td>\n",
       "      <td>2550.000000</td>\n",
       "    </tr>\n",
       "    <tr>\n",
       "      <th>25%</th>\n",
       "      <td>3.523039e+08</td>\n",
       "      <td>10028.000000</td>\n",
       "      <td>1.000000</td>\n",
       "      <td>1.000000</td>\n",
       "      <td>750.000000</td>\n",
       "      <td>0.015000</td>\n",
       "      <td>35.000000</td>\n",
       "      <td>0.297000</td>\n",
       "      <td>30.400000</td>\n",
       "      <td>31902.900000</td>\n",
       "      <td>58850.000000</td>\n",
       "      <td>157.900000</td>\n",
       "      <td>2550.000000</td>\n",
       "    </tr>\n",
       "    <tr>\n",
       "      <th>50%</th>\n",
       "      <td>2.060692e+09</td>\n",
       "      <td>10472.000000</td>\n",
       "      <td>2.000000</td>\n",
       "      <td>1.000000</td>\n",
       "      <td>900.000000</td>\n",
       "      <td>0.026000</td>\n",
       "      <td>37.700000</td>\n",
       "      <td>0.365000</td>\n",
       "      <td>42.500000</td>\n",
       "      <td>53801.600000</td>\n",
       "      <td>77551.000000</td>\n",
       "      <td>172.500000</td>\n",
       "      <td>3150.000000</td>\n",
       "    </tr>\n",
       "    <tr>\n",
       "      <th>75%</th>\n",
       "      <td>2.095869e+09</td>\n",
       "      <td>11225.000000</td>\n",
       "      <td>2.000000</td>\n",
       "      <td>1.000000</td>\n",
       "      <td>1000.000000</td>\n",
       "      <td>0.035000</td>\n",
       "      <td>40.700000</td>\n",
       "      <td>0.461000</td>\n",
       "      <td>60.400000</td>\n",
       "      <td>76855.100000</td>\n",
       "      <td>114427.000000</td>\n",
       "      <td>204.100000</td>\n",
       "      <td>3993.750000</td>\n",
       "    </tr>\n",
       "    <tr>\n",
       "      <th>max</th>\n",
       "      <td>2.146837e+09</td>\n",
       "      <td>11697.000000</td>\n",
       "      <td>3.000000</td>\n",
       "      <td>2.000000</td>\n",
       "      <td>1000.000000</td>\n",
       "      <td>0.078000</td>\n",
       "      <td>86.000000</td>\n",
       "      <td>0.655000</td>\n",
       "      <td>68.400000</td>\n",
       "      <td>146955.300000</td>\n",
       "      <td>250001.000000</td>\n",
       "      <td>204.100000</td>\n",
       "      <td>3994.000000</td>\n",
       "    </tr>\n",
       "  </tbody>\n",
       "</table>\n",
       "</div>"
      ],
      "text/plain": [
       "               zpid       zipcode     bedrooms    bathrooms         sqft  \\\n",
       "count  7.314000e+03   7314.000000  7314.000000  7314.000000  7314.000000   \n",
       "mean   1.323094e+09  10698.116489     1.686355     1.178357   871.991797   \n",
       "std    8.970547e+08    580.396766     0.948453     0.368877   109.275300   \n",
       "min    2.977812e+07  10001.000000     0.000000     1.000000   750.000000   \n",
       "25%    3.523039e+08  10028.000000     1.000000     1.000000   750.000000   \n",
       "50%    2.060692e+09  10472.000000     2.000000     1.000000   900.000000   \n",
       "75%    2.095869e+09  11225.000000     2.000000     1.000000  1000.000000   \n",
       "max    2.146837e+09  11697.000000     3.000000     2.000000  1000.000000   \n",
       "\n",
       "       vacant for rent   median age  currently married   crime rate  \\\n",
       "count      7314.000000  7314.000000        7314.000000  7314.000000   \n",
       "mean          0.026567    38.471411           0.377768    42.574528   \n",
       "std           0.014160     6.191669           0.099476    16.669612   \n",
       "min           0.000000    26.200000           0.000000    13.600000   \n",
       "25%           0.015000    35.000000           0.297000    30.400000   \n",
       "50%           0.026000    37.700000           0.365000    42.500000   \n",
       "75%           0.035000    40.700000           0.461000    60.400000   \n",
       "max           0.078000    86.000000           0.655000    68.400000   \n",
       "\n",
       "       pop dens zipcode  income household median  cost of living score   \\\n",
       "count       7314.000000              7314.000000            7314.000000   \n",
       "mean       57670.531105             86453.471014             176.605031   \n",
       "std        33716.492368             36271.111875              22.403999   \n",
       "min         1261.200000             21846.000000             141.000000   \n",
       "25%        31902.900000             58850.000000             157.900000   \n",
       "50%        53801.600000             77551.000000             172.500000   \n",
       "75%        76855.100000            114427.000000             204.100000   \n",
       "max       146955.300000            250001.000000             204.100000   \n",
       "\n",
       "             price  \n",
       "count  7314.000000  \n",
       "mean   3225.354936  \n",
       "std     580.993558  \n",
       "min    2550.000000  \n",
       "25%    2550.000000  \n",
       "50%    3150.000000  \n",
       "75%    3993.750000  \n",
       "max    3994.000000  "
      ]
     },
     "execution_count": 89,
     "metadata": {},
     "output_type": "execute_result"
    }
   ],
   "source": [
    "# Define your thresholds\n",
    "sqft_lower_bound = 750\n",
    "sqft_upper_bound = 1000\n",
    "price_lower_bound = 2550\n",
    "price_upper_bound = 3994\n",
    "\n",
    "# Cap and floor the values\n",
    "df_filtered['sqft'] = df_filtered['sqft'].clip(lower=sqft_lower_bound, upper=sqft_upper_bound)\n",
    "df_filtered['price'] = df_filtered['price'].clip(lower=price_lower_bound, upper=price_upper_bound)\n",
    "\n",
    "df_filtered.describe()"
   ]
  },
  {
   "cell_type": "code",
   "execution_count": 91,
   "id": "6ef05e2c-0836-4c1f-b890-7316881cf364",
   "metadata": {
    "tags": []
   },
   "outputs": [],
   "source": [
    "df_filtered.to_csv('cleaned_data.csv', index=False)"
   ]
  },
  {
   "cell_type": "code",
   "execution_count": null,
   "id": "173147a0-81bf-48c7-a5eb-80e64a80e364",
   "metadata": {},
   "outputs": [],
   "source": []
  }
 ],
 "metadata": {
  "kernelspec": {
   "display_name": "Python 3 (ipykernel)",
   "language": "python",
   "name": "python3"
  },
  "language_info": {
   "codemirror_mode": {
    "name": "ipython",
    "version": 3
   },
   "file_extension": ".py",
   "mimetype": "text/x-python",
   "name": "python",
   "nbconvert_exporter": "python",
   "pygments_lexer": "ipython3",
   "version": "3.11.5"
  }
 },
 "nbformat": 4,
 "nbformat_minor": 5
}
